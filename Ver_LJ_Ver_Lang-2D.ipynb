{
 "cells": [
  {
   "cell_type": "code",
   "execution_count": 1,
   "id": "3f56bd67-1586-4114-97b7-27726a05602c",
   "metadata": {},
   "outputs": [],
   "source": [
    "import numpy as np\n",
    "import scipy\n",
    "import matplotlib.pyplot as plt"
   ]
  },
  {
   "cell_type": "code",
   "execution_count": 2,
   "id": "9f4f8949-2e86-4b7d-9339-eab8b3c61692",
   "metadata": {},
   "outputs": [],
   "source": [
    "import cython\n",
    "%load_ext Cython"
   ]
  },
  {
   "cell_type": "code",
   "execution_count": 3,
   "id": "910e8976-1525-4254-bd2c-b80fb8ff79c5",
   "metadata": {},
   "outputs": [],
   "source": [
    "%%cython\n",
    "#cython: boundscheck=False, wraparound=False, initializedcheck=False, nonecheck=False, cdivision=True\n",
    "import cython\n",
    "import numpy as np\n",
    "cimport numpy as np\n",
    "np.import_array()\n",
    "\n",
    "from libc.math cimport round, sqrt\n",
    "\n",
    "\n",
    "DOUBLE = np.float64\n",
    "ctypedef np.float64_t DOUBLE_t\n",
    "INTEGER = np.int32\n",
    "\n",
    "\n",
    "cdef class LJBox:\n",
    "    cdef double epsilon, sigma\n",
    "    cdef double r_cut, r_cut2\n",
    "    cdef double e_cut\n",
    "    cdef double r_skin, r_skin2\n",
    "    cdef int n_part, n_dim\n",
    "    cdef double[:] box_shape\n",
    "    \n",
    "    cdef double[:] rij\n",
    "    cdef int[:] list_near\n",
    "    cdef int[:] iarr_part\n",
    "    cdef double[:, ::1] pos_start\n",
    "    cdef public int n_update\n",
    "    \n",
    "    def __init__(self, double epsilon, double sigma,\n",
    "                 double r_cut, double r_skin,\n",
    "                 int n_dim, double[:] box_shape, int n_part):\n",
    "        self.epsilon, self.sigma = epsilon, sigma\n",
    "        self.r_cut, self.r_skin = r_cut, r_skin\n",
    "        self.r_cut2 = self.r_cut * self.r_cut\n",
    "        self.r_skin2 = self.r_skin * self.r_skin\n",
    "        self.n_update = 0\n",
    "        \n",
    "        self.n_dim, self.n_part = n_dim, n_part\n",
    "        self.box_shape = np.array(box_shape, dtype=DOUBLE)\n",
    "        \n",
    "        self.rij = np.zeros(n_dim, dtype=DOUBLE)\n",
    "        \n",
    "        self.list_near = np.zeros((n_part - 1) * n_part / 2, dtype=INTEGER)\n",
    "        self.iarr_part = np.zeros(n_part, dtype=INTEGER)\n",
    "        self.pos_start = np.zeros((n_part, n_dim), dtype=DOUBLE)\n",
    "        \n",
    "        cdef double r2, r6\n",
    "        r2 = self.r_cut2 / (sigma * sigma)\n",
    "        r6 = r2 * r2 * r2\n",
    "        self.e_cut = 4 * epsilon * (1 / (r6 * r6) - 1 / r6)\n",
    "        \n",
    "    cdef void compute_neighbours(self, double [:, ::1] pos):\n",
    "        self.n_update += 1\n",
    "        cdef int iarr, i_part, j_part, i_dim\n",
    "        cdef double dr2, delta\n",
    "        self.list_near[...] = 0\n",
    "        self.iarr_part[...] = 0\n",
    "        \n",
    "        for i_part in range(self.n_part):\n",
    "            for i_dim in range(self.n_dim):\n",
    "                self.pos_start[i_part, i_dim] = pos[i_part, i_dim]\n",
    "        \n",
    "        iarr = 0\n",
    "        for i_part in range(self.n_part - 1):\n",
    "            self.iarr_part[i_part] = iarr\n",
    "            for j_part in range(i_part + 1, self.n_part):\n",
    "                dr2 = 0\n",
    "                for i_dim in range(self.n_dim):\n",
    "                    delta = pos[j_part, i_dim] - pos[i_part, i_dim]\n",
    "                    delta -= self.box_shape[i_dim] * round(delta / self.box_shape[i_dim])\n",
    "                    \n",
    "                    dr2 += delta * delta\n",
    "                \n",
    "                if dr2 < self.r_skin2:\n",
    "                    self.list_near[iarr] = j_part\n",
    "                    iarr += 1\n",
    "        self.iarr_part[self.n_part-1] = iarr\n",
    "\n",
    "        \n",
    "    cpdef double compute_force_en(self, double[:] rij, double[:] fi, double[:] fj):\n",
    "        cdef double r2, r6, r12, fac\n",
    "        cdef int i_dim\n",
    "        \n",
    "        r2 = 0\n",
    "        for i_dim in range(self.n_dim):\n",
    "            r2 += rij[i_dim] * rij[i_dim]\n",
    "        \n",
    "        if r2 > self.r_cut2:\n",
    "            return 0\n",
    "        r2 /= self.sigma * self.sigma\n",
    "        \n",
    "        r6 = r2 * r2 * r2\n",
    "        r12 = r6 * r6\n",
    "        fac = 48 * (1 / r12 - 0.5 / r6) / r2\n",
    "\n",
    "        fac *= self.epsilon / self.sigma\n",
    "        \n",
    "        for i_dim in range(self.n_dim):\n",
    "            fi[i_dim] -= fac * rij[i_dim]\n",
    "            fj[i_dim] += fac * rij[i_dim]\n",
    "        \n",
    "        fac = 4 * (1 / r12 - 1 / r6)\n",
    "        fac *= self.epsilon\n",
    "\n",
    "        return fac - self.e_cut\n",
    "        \n",
    "    cdef double compute(self, double[:, ::1] pos, double[:, ::1] force):\n",
    "        cdef int i_part, j_part, i_dim, iarr\n",
    "        cdef double delta, dr, dr1, dr2\n",
    "        cdef double e_pot\n",
    "\n",
    "        e_pot = 0\n",
    "        \n",
    "        dr1, dr2 = 0, 0\n",
    "        for i_part in range(self.n_part):\n",
    "            dr = 0\n",
    "            for i_dim in range(self.n_dim):\n",
    "                delta = pos[i_part, i_dim] - self.pos_start[i_part, i_dim]\n",
    "                dr += delta * delta\n",
    "            dr = sqrt(dr)\n",
    "            if dr > dr1:\n",
    "                dr2 = dr1\n",
    "                dr1 = dr\n",
    "            elif dr > dr2:\n",
    "                dr2 = dr\n",
    "        \n",
    "        if dr1 + dr2 >= self.r_skin - self.r_cut:\n",
    "            self.compute_neighbours(pos)\n",
    "        \n",
    "        for i_part in range(self.n_part - 1):\n",
    "            for iarr in range(self.iarr_part[i_part], self.iarr_part[i_part + 1]):\n",
    "                j_part = self.list_near[iarr]\n",
    "                \n",
    "                for i_dim in range(self.n_dim):\n",
    "                    delta = pos[j_part, i_dim] - pos[i_part, i_dim]\n",
    "                    self.rij[i_dim] = delta - self.box_shape[i_dim] * round(delta / self.box_shape[i_dim])\n",
    "                \n",
    "                e_pot += self.compute_force_en(self.rij, force[i_part, :],\n",
    "                                              force[j_part, :])\n",
    "        \n",
    "        return e_pot\n",
    "\n",
    "\n",
    "cdef class IntVerletLJ:\n",
    "    cdef double del_t\n",
    "    cdef int n_part, n_dim\n",
    "    cdef double[:, ::1] force\n",
    "    cdef double[:] box_shape\n",
    "    cdef LJBox lj\n",
    "    \n",
    "    cdef bint enable_langevin\n",
    "    cdef double kbT, gamma\n",
    "    \n",
    "    def __init__(self, int n_part, int n_dim, double[:] box_shape,\n",
    "                 double del_t, LJBox lj, double kbT=0,\n",
    "                 bint enable_langevin=0, double gamma=0):\n",
    "        self.n_part, self.n_dim = n_part, n_dim\n",
    "        self.box_shape = box_shape\n",
    "        self.del_t = del_t\n",
    "        self.lj = lj\n",
    "\n",
    "        self.force = np.zeros((n_part, n_dim), dtype=DOUBLE)\n",
    "        \n",
    "        self.enable_langevin = enable_langevin\n",
    "        self.kbT = kbT\n",
    "        self.gamma = gamma\n",
    "        \n",
    "    cdef double compute_force(self, double[:, ::1] pos):\n",
    "        cdef double e_pot = 0\n",
    "        self.force[...] = 0\n",
    "        \n",
    "        e_pot += self.lj.compute(pos, self.force)\n",
    "        \n",
    "        return e_pot\n",
    "        \n",
    "    def step(self, double[:] mass, double[:, ::1] pos_t, double[:, ::1] vel_t,\n",
    "             double[:, ::1] pos_n, double[:, ::1] vel_n):\n",
    "        cdef double e_pot, e_kin\n",
    "        \n",
    "        e_pot, e_kin = 0, 0\n",
    "        \n",
    "        self.compute_force(pos_t)\n",
    "        \n",
    "        cdef double[:, :] xi_arr, eta_arr\n",
    "        cdef double xi, eta\n",
    "        cdef double sigma\n",
    "        if self.enable_langevin:\n",
    "            xi_arr = np.random.normal(loc=0, scale=1.0, size=(self.n_part, self.n_dim))\n",
    "            eta_arr = np.random.normal(loc=0, scale=1.0, size=(self.n_part, self.n_dim))\n",
    "        cdef double sq_dt = sqrt(self.del_t)\n",
    "        cdef double _1bysq3 = sqrt(1./3)\n",
    "        \n",
    "        \n",
    "        for i_part in range(self.n_part):\n",
    "            for i_dim in range(self.n_dim):\n",
    "                vel_n[i_part, i_dim] = vel_t[i_part, i_dim] \\\n",
    "                                     + 0.5 * self.del_t * self.force[i_part, i_dim] / mass[i_part]\n",
    "                if self.enable_langevin:\n",
    "                    sigma = sqrt(2 * self.kbT * self.gamma * mass[i_part])\n",
    "                    xi = xi_arr[i_part, i_dim]\n",
    "                    eta = eta_arr[i_part, i_dim]\n",
    "                    vel_n[i_part, i_dim] += (- 0.5 * self.del_t * self.gamma * vel_t[i_part, i_dim]\n",
    "                                             + 0.5 * sq_dt * sigma * xi\n",
    "                                             - 0.125 * self.del_t * self.del_t * self.gamma \\\n",
    "                                                     * (self.force[i_part, i_dim] / mass[i_part] - self.gamma * vel_t[i_part, i_dim])\n",
    "                                             - 0.25 * self.del_t * sq_dt * self.gamma * sigma * (0.5 * xi + _1bysq3 * eta))\n",
    "                \n",
    "                pos_n[i_part, i_dim] = pos_t[i_part, i_dim] + self.del_t * vel_n[i_part, i_dim]\n",
    "                if self.enable_langevin:\n",
    "                    pos_n[i_part, i_dim] += 0.5 * _1bysq3 * self.del_t * sq_dt * sigma * eta\n",
    "                \n",
    "                pos_n[i_part, i_dim] = pos_n[i_part, i_dim] % self.box_shape[i_dim]\n",
    "                if pos_n[i_part, i_dim] < 0:\n",
    "                    pos_n[i_part, i_dim] += self.box_shape[i_dim]\n",
    "        \n",
    "        e_pot = self.compute_force(pos_n)\n",
    "        \n",
    "        cdef double vel_h\n",
    "        for i_part in range(self.n_part):\n",
    "            for i_dim in range(self.n_dim):\n",
    "                vel_h = vel_n[i_part, i_dim]\n",
    "                vel_n[i_part, i_dim] += 0.5 * self.del_t * self.force[i_part, i_dim] / mass[i_part]\n",
    "                if self.enable_langevin:\n",
    "                    sigma = sqrt(2 * self.kbT * self.gamma * mass[i_part])\n",
    "                    xi = xi_arr[i_part, i_dim]\n",
    "                    eta = eta_arr[i_part, i_dim]\n",
    "                    vel_n[i_part, i_dim] += (- 0.5 * self.del_t * self.gamma * vel_h\n",
    "                                             + 0.5 * sq_dt * sigma * xi\n",
    "                                             - 0.125 * self.del_t * self.del_t * self.gamma \\\n",
    "                                                     * (self.force[i_part, i_dim] / mass[i_part] - self.gamma * vel_h)\n",
    "                                             - 0.25 * self.del_t * sq_dt * self.gamma * sigma * (0.5 * xi + _1bysq3 * eta))\n",
    "                \n",
    "                e_kin += 0.5 * mass[i_part] * vel_n[i_part, i_dim] * vel_n[i_part, i_dim]\n",
    "        \n",
    "        if not self.enable_langevin:\n",
    "            fac = np.sqrt(self.n_part * (self.kbT * self.n_dim / 2) / e_kin)\n",
    "            for i_part in range(self.n_part):\n",
    "                for i_dim in range(self.n_dim):\n",
    "                    vel_n[i_part, i_dim] *= fac\n",
    "        \n",
    "                \n",
    "        return e_pot, e_kin\n",
    "        \n",
    "        "
   ]
  },
  {
   "cell_type": "code",
   "execution_count": 4,
   "id": "a017e244-e703-498d-a84c-a79e6bfa8235",
   "metadata": {},
   "outputs": [
    {
     "name": "stdout",
     "output_type": "stream",
     "text": [
      "1000\n"
     ]
    }
   ],
   "source": [
    "epsilon, sigma, m = 1, 1, 1\n",
    "r_cut = 4 * sigma\n",
    "r_skin = 4.5 * sigma\n",
    "\n",
    "n_dim = 3\n",
    "n_part = 1\n",
    "\n",
    "rho = 0.1 * sigma**3\n",
    "del_t = 0.05 * np.sqrt((m * sigma**2) / epsilon)\n",
    "n_step = 20000\n",
    "kbT = 0.01 * epsilon\n",
    "gamma = 1\n",
    "\n",
    "mass = np.ones(n_part, dtype=np.float64) * m\n",
    "a = 1000\n",
    "print(a)\n",
    "box_shape = np.ones(n_dim, dtype=np.float64) * a\n",
    "\n",
    "pos = np.zeros((n_step+1, n_part, n_dim), dtype = np.float64)\n",
    "vel = np.zeros((n_step+1, n_part, n_dim), dtype = np.float64)\n",
    "ke = np.zeros(n_step+1, dtype=np.float64)\n",
    "pe = np.zeros(n_step+1, dtype=np.float64)\n",
    "\n",
    "pos[0] = np.ones((n_part, n_dim)) * 0.5 * box_shape\n",
    "#pos[0], vel[0] = initialize_pos_vel(mass, box_shape, kbT)\n",
    "\n",
    "lj = LJBox(epsilon, sigma, r_cut, r_skin, n_dim, box_shape, n_part)\n",
    "verlet = IntVerletLJ(n_part, n_dim, box_shape, del_t, lj, kbT, True, gamma)\n"
   ]
  },
  {
   "cell_type": "code",
   "execution_count": 5,
   "id": "e918a13e-0a8b-4dae-af03-9a928e60675d",
   "metadata": {},
   "outputs": [
    {
     "name": "stdout",
     "output_type": "stream",
     "text": [
      "done9 / 20000; 0.001962, 0.000000 0.001962\n",
      "158\n",
      "CPU times: user 2.31 s, sys: 564 ms, total: 2.87 s\n",
      "Wall time: 2.24 s\n"
     ]
    }
   ],
   "source": [
    "%%time\n",
    "for i in range(n_step):\n",
    "    print('{:d} / {:d}; {:f}, {:f} {:f}'.format(i, n_step,\n",
    "                                                ke[i], pe[i], ke[i] + pe[i]), end='\\r')\n",
    "    pe[i+1], ke[i+1] = verlet.step(mass, pos[i], vel[i], pos[i+1], vel[i+1])\n",
    "print('done')\n",
    "print(lj.n_update)"
   ]
  },
  {
   "cell_type": "code",
   "execution_count": 6,
   "id": "85527524-0b36-496a-9ca4-d9adace59ddb",
   "metadata": {},
   "outputs": [],
   "source": [
    "#print(pos)"
   ]
  },
  {
   "cell_type": "code",
   "execution_count": 7,
   "id": "b48ddea3-bbcf-40da-89ee-acafcfd85409",
   "metadata": {},
   "outputs": [
    {
     "name": "stdout",
     "output_type": "stream",
     "text": [
      "(20001, 1, 3)\n"
     ]
    },
    {
     "data": {
      "image/png": "[encoded data removed]",
      "text/plain": [
       "<Figure size 432x288 with 1 Axes>"
      ]
     },
     "metadata": {
      "needs_background": "light"
     },
     "output_type": "display_data"
    },
    {
     "data": {
      "image/png": "[encoded data removed]",
      "text/plain": [
       "<Figure size 432x288 with 1 Axes>"
      ]
     },
     "metadata": {
      "needs_background": "light"
     },
     "output_type": "display_data"
    }
   ],
   "source": [
    "print(pos.shape)\n",
    "t = del_t * np.arange(n_step+1)\n",
    "r = np.linalg.norm(pos - pos[0], axis=2)\n",
    "fig = plt.figure()\n",
    "plt.plot(t, np.mean(r, axis=1))\n",
    "plt.show()\n",
    "\n",
    "r2 = r * r\n",
    "r2_mean = np.mean(r2, axis=1)\n",
    "\n",
    "\n",
    "fig = plt.figure()\n",
    "plt.plot(t, r2_mean)\n",
    "plt.show()"
   ]
  },
  {
   "cell_type": "code",
   "execution_count": 8,
   "id": "9f7e8d74-2872-498a-985c-5d11bed0f6c3",
   "metadata": {},
   "outputs": [
    {
     "name": "stderr",
     "output_type": "stream",
     "text": [
      "/tmp/ipykernel_27863/236541763.py:1: RuntimeWarning: invalid value encountered in true_divide\n",
      "  np.mean((r2_mean / t)[1000:])\n"
     ]
    },
    {
     "data": {
      "text/plain": [
       "0.04765255917716141"
      ]
     },
     "execution_count": 8,
     "metadata": {},
     "output_type": "execute_result"
    }
   ],
   "source": [
    "np.mean((r2_mean / t)[1000:])"
   ]
  },
  {
   "cell_type": "code",
   "execution_count": 9,
   "id": "5fe97cf1-972b-4a61-9c0e-15491fe6fdc6",
   "metadata": {},
   "outputs": [],
   "source": [
    "from scipy.stats import maxwell\n",
    "\n",
    "def initialize_pos_vel(mass, box_shape, e_temp):\n",
    "    n_part = len(mass)\n",
    "    n_dim = len(box_shape)\n",
    "    coord_list = []\n",
    "    n_mesh = np.ceil((n_part)**(1./n_dim))\n",
    "    n_mesh = int(n_mesh)\n",
    "\n",
    "    for i in range(n_dim):\n",
    "        coord = np.linspace(0, box_shape[i], n_mesh + 1, endpoint=False)[1:]\n",
    "        coord_list.append(coord)\n",
    "    coords_mesh = np.array(np.meshgrid(*coord_list, indexing='xy')).reshape(n_dim, -1)\n",
    "    pos_start = coords_mesh[:, :n_part]\n",
    "\n",
    "    vel_start = np.zeros((n_part, n_dim), dtype=np.float64)\n",
    "    for i in range(n_part):\n",
    "        vel_start[i] = maxwell.rvs(size=n_dim, scale=np.sqrt(e_temp / (n_dim * mass[i])))\n",
    "    vel_start[:] *= 2 * np.random.randint(2, size=(n_part, n_dim)) - 1\n",
    "\n",
    "    print(np.mean(0.5 * mass.reshape(-1, 1) * np.sum(vel_start**2, axis=1)))\n",
    "    print(np.mean(mass.reshape(-1, 1) * vel_start))\n",
    "    print(np.sum(0.5 * mass.reshape(-1, 1) * vel_start**2))\n",
    "    return pos_start.transpose(), vel_start"
   ]
  },
  {
   "cell_type": "code",
   "execution_count": 10,
   "id": "9995d19f-2f24-4719-80de-1c0e0f58c61e",
   "metadata": {},
   "outputs": [
    {
     "name": "stdout",
     "output_type": "stream",
     "text": [
      "20.51971136012036\n",
      "(20001, 864, 3) (20001, 864, 3)\n",
      "9.226615202623023\n",
      "-0.03605245551870569\n",
      "7971.79553506629\n"
     ]
    }
   ],
   "source": [
    "epsilon, sigma, m = 1, 1, 1\n",
    "r_cut = 4 * sigma\n",
    "r_skin = 4.5 * sigma\n",
    "\n",
    "n_dim = 3\n",
    "if n_dim == 3:\n",
    "    n_part = 864\n",
    "elif n_dim == 2:\n",
    "    n_part = 10\n",
    "\n",
    "rho = 0.1 * sigma**3\n",
    "del_t = 0.002 * np.sqrt(epsilon / (m * sigma**2))\n",
    "n_step = 20000\n",
    "T = 6.0 * epsilon\n",
    "\n",
    "mass = np.ones(n_part, dtype=np.float64) * m\n",
    "a = (np.sum(mass) / rho)**(1./n_dim)\n",
    "print(a)\n",
    "box_shape = np.ones(n_dim, dtype=np.float64) * a\n",
    "\n",
    "\n",
    "pos = np.zeros((n_step+1, n_part, n_dim), dtype = np.float64)\n",
    "vel = np.zeros((n_step+1, n_part, n_dim), dtype = np.float64)\n",
    "ke = np.zeros(n_step+1, dtype=np.float64)\n",
    "pe = np.zeros(n_step+1, dtype=np.float64)\n",
    "\n",
    "print(pos.shape, vel.shape)\n",
    "pos[0], vel[0] = initialize_pos_vel(mass, box_shape, T)\n",
    "\n",
    "lj = LJBox(epsilon, sigma, r_cut, r_skin, n_dim, box_shape, n_part)\n",
    "verlet = IntVerletLJ(n_part, n_dim, box_shape, del_t, lj, T)\n"
   ]
  },
  {
   "cell_type": "code",
   "execution_count": 11,
   "id": "6b1fab21-db3b-4497-851e-45b9dca2fe2e",
   "metadata": {},
   "outputs": [],
   "source": [
    "# i = 0\n",
    "# %prun ke[i+1], pe[i+1] = verlet.step(mass, pos[i], vel[i], pos[i+1], vel[i+1])"
   ]
  },
  {
   "cell_type": "code",
   "execution_count": null,
   "id": "f20bd544-63d2-4be2-8b3a-8456d688bcff",
   "metadata": {},
   "outputs": [
    {
     "name": "stdout",
     "output_type": "stream",
     "text": [
      "9 / 20000; 7776.803936, -268.517123 7508.286813\r"
     ]
    }
   ],
   "source": [
    "%%time\n",
    "for i in range(n_step):\n",
    "    print('{:d} / {:d}; {:f}, {:f} {:f}'.format(i, n_step,\n",
    "                                                ke[i], pe[i], ke[i] + pe[i]), end='\\r')\n",
    "    pe[i+1], ke[i+1] = verlet.step(mass, pos[i], vel[i], pos[i+1], vel[i+1])\n",
    "print('done')\n",
    "print(lj.n_update)"
   ]
  },
  {
   "cell_type": "code",
   "execution_count": null,
   "id": "970f7854-7dc6-4b02-ab68-bf8e928e25c1",
   "metadata": {},
   "outputs": [],
   "source": [
    "fig = plt.figure()\n",
    "plt.plot(ke)\n",
    "plt.show()\n",
    "\n",
    "fig = plt.figure()\n",
    "plt.plot(pe)\n",
    "plt.show()"
   ]
  },
  {
   "cell_type": "code",
   "execution_count": null,
   "id": "2bba3a90-dddd-47f2-a8c2-6c685c9eabf0",
   "metadata": {},
   "outputs": [],
   "source": [
    "fig = plt.figure()\n",
    "plt.plot(pos[:, 0, 0])\n",
    "plt.show()"
   ]
  },
  {
   "cell_type": "code",
   "execution_count": null,
   "id": "bb7a2c96-2b2f-4871-b627-c1e0a6e10066",
   "metadata": {},
   "outputs": [],
   "source": [
    "print(np.mean(ke[5000:]) / n_part)\n",
    "print(np.mean(pe[5000:]) / n_part)"
   ]
  },
  {
   "cell_type": "code",
   "execution_count": null,
   "id": "7e685d78-d2cc-4d4b-a28e-4166bf057c97",
   "metadata": {},
   "outputs": [],
   "source": [
    "# fig = plt.figure(figsize=(8,10))\n",
    "# ax = fig.add_subplot(projection='3d')\n",
    "# ax.set(xlim3d=(0, box_shape[0]), xlabel='X')\n",
    "# ax.set(ylim3d=(0, box_shape[1]), ylabel='Y')\n",
    "# ax.set(zlim3d=(0, box_shape[2]), zlabel='Z')\n",
    "\n",
    "# t = 1000\n",
    "# data = pos[t, :, :]\n",
    "# ax.scatter(data[:, 0], data[:, 1], data[:, 2])"
   ]
  },
  {
   "cell_type": "code",
   "execution_count": null,
   "id": "9c749f47-bffd-4cf9-993d-bc247cf4177b",
   "metadata": {},
   "outputs": [],
   "source": [
    "%matplotlib qt\n",
    "import matplotlib.animation as animation\n",
    "\n",
    "if n_dim == 3:\n",
    "    fig = plt.figure(figsize=(10,10))\n",
    "    ax = fig.add_subplot(projection='3d')\n",
    "    ax.set(xlim3d=(0, box_shape[0]), xlabel='X')\n",
    "    ax.set(ylim3d=(0, box_shape[1]), ylabel='Y')\n",
    "    ax.set(zlim3d=(0, box_shape[2]), zlabel='Z')\n",
    "\n",
    "    p, = ax.plot(pos[0, :, 0], pos[0, :, 1], pos[0, :, 2], linestyle='', marker='o')\n",
    "\n",
    "    def update(i_step, p, pos):\n",
    "        p.set_data(pos[i_step, :, 0], pos[i_step, :, 1])\n",
    "        p.set_3d_properties(pos[i_step, :, 2])\n",
    "        return p\n",
    "\n",
    "    ani = animation.FuncAnimation(fig, update, range(0, n_step, 30), fargs=(p, pos),\n",
    "                                  interval=20)\n",
    "    plt.show()\n",
    "\n",
    "elif n_dim == 2:\n",
    "    fig = plt.figure(figsize=(10,10))\n",
    "    ax = fig.add_subplot(111)\n",
    "    ax.set_xlim([0, box_shape[0]])\n",
    "    ax.set_ylim([0, box_shape[1]])\n",
    "\n",
    "\n",
    "    p, = ax.plot(pos[0, :, 0], pos[0, :, 1], linestyle='', marker='o')\n",
    "\n",
    "    def update(i_step, p, pos):\n",
    "        p.set_data(pos[i_step, :, 0], pos[i_step, :, 1])\n",
    "        return p\n",
    "\n",
    "    ani = animation.FuncAnimation(fig, update, range(0, n_step, 30), fargs=(p, pos),\n",
    "                                  interval=20)\n",
    "    plt.show()"
   ]
  },
  {
   "cell_type": "code",
   "execution_count": null,
   "id": "a56d3c13-95fe-476d-ac55-285ad8652048",
   "metadata": {},
   "outputs": [],
   "source": []
  }
 ],
 "metadata": {
  "kernelspec": {
   "display_name": "Python 3 (ipykernel)",
   "language": "python",
   "name": "python3"
  },
  "language_info": {
   "codemirror_mode": {
    "name": "ipython",
    "version": 3
   },
   "file_extension": ".py",
   "mimetype": "text/x-python",
   "name": "python",
   "nbconvert_exporter": "python",
   "pygments_lexer": "ipython3",
   "version": "3.9.7"
  }
 },
 "nbformat": 4,
 "nbformat_minor": 5
}
